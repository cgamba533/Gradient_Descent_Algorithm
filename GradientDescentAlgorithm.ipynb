{
  "cells": [
    {
      "cell_type": "markdown",
      "metadata": {
        "id": "pM-Bjfapf1q8"
      },
      "source": [
        "Demo of scratch made gradient descent algorithm to demonstrate iterative process for determining intercepts and slope. This algorithm revolves around optimizing the sum of squared errors (SSE) for a regression line. This is done by an iterative process involving taking both the derivative of the SSE with respect to a given intercept and the derivative of SSE with respect to a given slope value. These derivative values are then multiplied by a constant (learning rate) and subtracted from the current intercept and slope values. This process repeats until both the slope and intercept values converge to a finite value. When these values converge, the model SSE should be minimized These values are then the optimal parameters for our linear regression model, according to this algorithm."
      ]
    },
    {
      "cell_type": "markdown",
      "metadata": {
        "id": "GiKcclaUavoy"
      },
      "source": [
        "# Importing Variables and Data Sets\n"
      ]
    },
    {
      "cell_type": "code",
      "execution_count": 1,
      "metadata": {
        "id": "s6yN4OizZcDo"
      },
      "outputs": [],
      "source": [
        "import pandas as pd\n",
        "import numpy as np\n",
        "import matplotlib.pyplot as plt\n",
        "import seaborn as sns\n",
        "\n",
        "from sklearn.linear_model import LinearRegression"
      ]
    },
    {
      "cell_type": "code",
      "execution_count": 2,
      "metadata": {
        "colab": {
          "base_uri": "https://localhost:8080/"
        },
        "id": "9mQniB2RZuUR",
        "outputId": "c4c39061-7fd9-4a2e-c9b5-7b41191a3961"
      },
      "outputs": [
        {
          "output_type": "stream",
          "name": "stdout",
          "text": [
            "Mounted at /content/drive\n"
          ]
        }
      ],
      "source": [
        "from google.colab import drive\n",
        "drive.mount('input_file_path')\n",
        "\n",
        "airfare = pd.read_excel('input_file_path')\n",
        "car = pd.read_csv('input_file_path')"
      ]
    },
    {
      "cell_type": "code",
      "execution_count": 3,
      "metadata": {
        "id": "yyPGmFP4c7gQ"
      },
      "outputs": [],
      "source": [
        "car2 = car[car['Highway_MPG'] < 300]\n",
        "car2 = car2.head(200)"
      ]
    },
    {
      "cell_type": "markdown",
      "metadata": {
        "id": "2pF5dBoKa2HX"
      },
      "source": [
        "# Demo using Airfare Price by Flight Distance"
      ]
    },
    {
      "cell_type": "markdown",
      "metadata": {
        "id": "k5-sZTVzfx0B"
      },
      "source": [
        "Demo of a gradient desecent algorithm for optimizing slope and intercept of a linear regression model for predicting price of airfare given distance of flight"
      ]
    },
    {
      "cell_type": "code",
      "execution_count": 4,
      "metadata": {
        "colab": {
          "base_uri": "https://localhost:8080/",
          "height": 489
        },
        "id": "CEJsPLrXaQyw",
        "outputId": "0c31a388-8683-46ca-d0b9-1c9025de75d9"
      },
      "outputs": [
        {
          "output_type": "execute_result",
          "data": {
            "text/plain": [
              "Text(0.5, 1.0, 'Airfare vs Price')"
            ]
          },
          "metadata": {},
          "execution_count": 4
        },
        {
          "output_type": "display_data",
          "data": {
            "text/plain": [
              "<Figure size 640x480 with 1 Axes>"
            ],
            "image/png": "[encoded data removed]"
          },
          "metadata": {}
        }
      ],
      "source": [
        "plt.scatter(x= airfare['distance'], y= airfare['price'])\n",
        "plt.xlabel(\"Distance\")\n",
        "plt.ylabel(\"Price\")\n",
        "plt.title(\"Airfare vs Price\")"
      ]
    },
    {
      "cell_type": "code",
      "execution_count": 5,
      "metadata": {
        "colab": {
          "base_uri": "https://localhost:8080/"
        },
        "id": "MLAp-rD92zKx",
        "outputId": "8ec552b6-50ce-460a-ee93-a5af6dc51a62"
      },
      "outputs": [
        {
          "output_type": "execute_result",
          "data": {
            "text/plain": [
              "509.15"
            ]
          },
          "metadata": {},
          "execution_count": 5
        }
      ],
      "source": [
        "airfare['price'].median()"
      ]
    },
    {
      "cell_type": "code",
      "execution_count": 6,
      "metadata": {
        "id": "lTVNilhoatdS"
      },
      "outputs": [],
      "source": [
        "# Function to calculate SSE\n",
        "\n",
        "def sse_base(priceActual, priceEstimate):\n",
        "  residualList = []\n",
        "  for i in range(len(priceActual)):\n",
        "    residualList.append((priceActual[i] - priceEstimate[i])**2)\n",
        "  return sum(residualList)"
      ]
    },
    {
      "cell_type": "code",
      "execution_count": 7,
      "metadata": {
        "id": "8FIPFw2VGcQ6"
      },
      "outputs": [],
      "source": [
        "# Function to calculate SSE given intercept and slop\n",
        "\n",
        "def sse(intercept, slope, distances, prices):\n",
        "  residualList = []\n",
        "  for i in range(len(prices)):\n",
        "    residualList.append((prices[i] - (intercept + slope * distances[i]) ** 2))\n",
        "  return sum(residualList)"
      ]
    },
    {
      "cell_type": "code",
      "execution_count": 8,
      "metadata": {
        "colab": {
          "base_uri": "https://localhost:8080/"
        },
        "id": "ntK_9HuccM8j",
        "outputId": "952c7ce1-e002-4521-845c-8624f452dbaa"
      },
      "outputs": [
        {
          "output_type": "stream",
          "name": "stdout",
          "text": [
            "[2604, 850, 2590, 673, 2370, 1990, 2766, 2826, 2082, 1715, 1592, 1178]\n",
            "[631.8, 338.6, 627.9, 352.6, 699.8, 470.7, 557.8, 547.6, 569.83, 321.1, 344.7, 427.6]\n"
          ]
        }
      ],
      "source": [
        "# Convert observed values into list\n",
        "\n",
        "distances = airfare['distance'].tolist()\n",
        "prices = airfare['price'].tolist()\n",
        "\n",
        "print(distances)\n",
        "print(prices)"
      ]
    },
    {
      "cell_type": "code",
      "execution_count": 9,
      "metadata": {
        "id": "_AWLIHCJkGze"
      },
      "outputs": [],
      "source": [
        "# derivative with respect to intercept for SSE function\n",
        "\n",
        "def d_dI_sse(intercept, slope, distances, prices):\n",
        "    residualList = [-2 * (prices[i] - (intercept + slope * distances[i])) for i in range(len(prices))]\n",
        "    return sum(residualList)"
      ]
    },
    {
      "cell_type": "code",
      "execution_count": 10,
      "metadata": {
        "id": "McZ5oO9Dksoz"
      },
      "outputs": [],
      "source": [
        "# derivative with respect to slope for SSE function\n",
        "\n",
        "def d_dS_sse(intercept, slope, distances, prices):\n",
        "    residualList = [-2 * distances[i] * (prices[i] - (intercept + slope * distances[i])) for i in range(len(prices))]\n",
        "    return sum(residualList)"
      ]
    },
    {
      "cell_type": "code",
      "execution_count": 11,
      "metadata": {
        "id": "0Gb-afkgoQxT",
        "colab": {
          "base_uri": "https://localhost:8080/",
          "height": 122
        },
        "outputId": "91f0a39d-92b2-4d7a-d6e8-047b924b0c4d"
      },
      "outputs": [
        {
          "output_type": "execute_result",
          "data": {
            "text/plain": [
              "'\\nintercept = 1\\nslope = 0\\nstep_size_intercept = 0\\nstep_size_slope = 0\\nlearning_rate = 0.01\\n\\nderivative_intercept = d_dI_sse(intercept, slope, distances, prices)\\nderivative_slope = d_dS_sse(intercept, slope, distances, prices)\\n\\nstep_size_intercept = derivative_intercept * learning_rate\\nstep_size_slope = derivative_slope * learning_rate\\n\\nnew_intercept = intercept - (step_size_intercept)\\nnew_slope = slope - (step_size_slope)\\n'"
            ],
            "application/vnd.google.colaboratory.intrinsic+json": {
              "type": "string"
            }
          },
          "metadata": {},
          "execution_count": 11
        }
      ],
      "source": [
        "# Iteration Concept\n",
        "\n",
        "'''\n",
        "intercept = 1\n",
        "slope = 0\n",
        "step_size_intercept = 0\n",
        "step_size_slope = 0\n",
        "learning_rate = 0.01\n",
        "\n",
        "derivative_intercept = d_dI_sse(intercept, slope, distances, prices)\n",
        "derivative_slope = d_dS_sse(intercept, slope, distances, prices)\n",
        "\n",
        "step_size_intercept = derivative_intercept * learning_rate\n",
        "step_size_slope = derivative_slope * learning_rate\n",
        "\n",
        "new_intercept = intercept - (step_size_intercept)\n",
        "new_slope = slope - (step_size_slope)\n",
        "'''"
      ]
    },
    {
      "cell_type": "code",
      "execution_count": 12,
      "metadata": {
        "id": "pE9PsZpIp2R4",
        "colab": {
          "base_uri": "https://localhost:8080/",
          "height": 209
        },
        "outputId": "0d255647-9c03-419f-cb79-08bc92b5916c"
      },
      "outputs": [
        {
          "output_type": "execute_result",
          "data": {
            "text/plain": [
              "'\\ndef function(start_intercept, start_slope, Learning_rate, distances, prices):\\n  derivative_intercept = d_dI_sse(start_intercept, start_slope, distances, prices)\\n  derivative_slope = d_dS_sse(start_intercept, start_slope, distances, prices)\\n\\n  print(derivative_intercept)\\n  print(derivative_slope)\\n\\n  step_size_intercept = derivative_intercept * Learning_rate\\n  step_size_slope = derivative_slope * Learning_rate\\n  print(\"Step Size Intercept: \", step_size_intercept)\\n  print(\"Step Size Slope: \", step_size_slope)\\n\\n  new_intercept = start_intercept - step_size_intercept\\n  new_slope = start_slope - step_size_slope\\n\\n  if abs(step_size_intercept) < 1 or abs(step_size_slope) < 1:\\n    return new_intercept, new_slope\\n\\n  else:\\n    return function(new_intercept, new_slope, Learning_rate, distances, prices)\\n\\ntest = function(490.836, 0, 0.0000000001, distances, prices)\\nprint(test)\\n'"
            ],
            "application/vnd.google.colaboratory.intrinsic+json": {
              "type": "string"
            }
          },
          "metadata": {},
          "execution_count": 12
        }
      ],
      "source": [
        "# Main iteration function for Gradient Descent Optimization\n",
        "'''\n",
        "def function(start_intercept, start_slope, Learning_rate, distances, prices):\n",
        "  derivative_intercept = d_dI_sse(start_intercept, start_slope, distances, prices)\n",
        "  derivative_slope = d_dS_sse(start_intercept, start_slope, distances, prices)\n",
        "\n",
        "  print(derivative_intercept)\n",
        "  print(derivative_slope)\n",
        "\n",
        "  step_size_intercept = derivative_intercept * Learning_rate\n",
        "  step_size_slope = derivative_slope * Learning_rate\n",
        "  print(\"Step Size Intercept: \", step_size_intercept)\n",
        "  print(\"Step Size Slope: \", step_size_slope)\n",
        "\n",
        "  new_intercept = start_intercept - step_size_intercept\n",
        "  new_slope = start_slope - step_size_slope\n",
        "\n",
        "  if abs(step_size_intercept) < 1 or abs(step_size_slope) < 1:\n",
        "    return new_intercept, new_slope\n",
        "\n",
        "  else:\n",
        "    return function(new_intercept, new_slope, Learning_rate, distances, prices)\n",
        "\n",
        "test = function(490.836, 0, 0.0000000001, distances, prices)\n",
        "print(test)\n",
        "'''"
      ]
    },
    {
      "cell_type": "code",
      "execution_count": 13,
      "metadata": {
        "colab": {
          "base_uri": "https://localhost:8080/"
        },
        "id": "S0VKGHSm6Vbi",
        "outputId": "22e110d0-3406-4ab8-a04c-596396444a58"
      },
      "outputs": [
        {
          "output_type": "stream",
          "name": "stdout",
          "text": [
            "Intercept: 0.000600982918310977, Slope: 0.24026175603585834\n",
            "\n"
          ]
        }
      ],
      "source": [
        "'''\n",
        "Ran 550,000 iterations with constant learning rate of 0.00000001 for both slope and intercept. Slope stayed at around\n",
        "0.2387 and did not continue to change, while intercept was steadily increasing. Thus, intercept should use a larger learning\n",
        "rate, while slope performed well at this rate. Using larger learning rates for slope causes infinite error.\n",
        "'''\n",
        "\n",
        "# Derivative with respect to intercept for SSE function\n",
        "def d_dI_sse(intercept, slope, distances, prices):\n",
        "    residualList = [-2 * (prices[i] - (intercept + slope * distances[i])) for i in range(len(prices))]\n",
        "    return sum(residualList)\n",
        "\n",
        "# Derivative with respect to slope for SSE function\n",
        "def d_dS_sse(intercept, slope, distances, prices):\n",
        "    residualList = [-2 * distances[i] * (prices[i] - (intercept + slope * distances[i])) for i in range(len(prices))]\n",
        "    return sum(residualList)\n",
        "\n",
        "distances = airfare['distance'].values\n",
        "prices = airfare['price'].values\n",
        "\n",
        "# Initialize variables\n",
        "intercept = 0\n",
        "slope = 0\n",
        "learning_rate = 0.00000001\n",
        "\n",
        "sseList = []\n",
        "\n",
        "for iteration in range(80):\n",
        "    # Calculate the derivatives\n",
        "    derivative_intercept = d_dI_sse(intercept, slope, distances, prices)\n",
        "    derivative_slope = d_dS_sse(intercept, slope, distances, prices)\n",
        "\n",
        "    # Compute step sizes\n",
        "    step_size_intercept = derivative_intercept * learning_rate\n",
        "    step_size_slope = derivative_slope * learning_rate\n",
        "\n",
        "    # Calculate SSE\n",
        "    sse_value = sse(intercept, slope, distances, prices)\n",
        "    sseList.append(sse_value)\n",
        "    #print(f\"Iteration {iteration + 1}: SSE = {sse_value}\")\n",
        "\n",
        "    # Update intercept and slope\n",
        "    new_intercept = intercept - step_size_intercept\n",
        "    new_slope = slope - step_size_slope\n",
        "\n",
        "    # Print step sizes and new values for each iteration\n",
        "    #print(f\"Iteration {iteration + 1}:\")\n",
        "    #print(f\"Step Size Intercept: {step_size_intercept}, Step Size Slope: {step_size_slope}\")\n",
        "    #print(f\"New Intercept: {new_intercept}, New Slope: {new_slope}\\n\")\n",
        "\n",
        "    # Set updated values for the next iteration\n",
        "    intercept, slope = new_intercept, new_slope\n",
        "\n",
        "print(f\"Intercept: {intercept}, Slope: {slope}\\n\")"
      ]
    },
    {
      "cell_type": "code",
      "execution_count": 14,
      "metadata": {
        "colab": {
          "base_uri": "https://localhost:8080/"
        },
        "id": "nMV3OUKWRO4V",
        "outputId": "196ca004-9a83-43cd-d07b-93a88a95e2d3"
      },
      "outputs": [
        {
          "output_type": "stream",
          "name": "stdout",
          "text": [
            "Intercept: 0.005026066440930184, Slope: 0.2402597429516425\n",
            "\n"
          ]
        }
      ],
      "source": [
        "'''\n",
        "Model using 0.00000001 learning rate for slope. Intercept approximations seems to require lots of iterations to converge,\n",
        "irrespective of learning rate. This suggests that standard gradient descent may not be optimal for this model, which could be\n",
        "explained by the more non-linear nature of the data.\n",
        "'''\n",
        "\n",
        "# Derivative with respect to intercept for SSE function\n",
        "def d_dI_sse(intercept, slope, distances, prices):\n",
        "    residualList = [-2 * (prices[i] - (intercept + slope * distances[i])) for i in range(len(prices))]\n",
        "    return sum(residualList)\n",
        "\n",
        "# Derivative with respect to slope for SSE function\n",
        "def d_dS_sse(intercept, slope, distances, prices):\n",
        "    residualList = [-2 * distances[i] * (prices[i] - (intercept + slope * distances[i])) for i in range(len(prices))]\n",
        "    return sum(residualList)\n",
        "\n",
        "# Prepare the data\n",
        "distances = airfare['distance'].values\n",
        "prices = airfare['price'].values\n",
        "\n",
        "# Initialize variables\n",
        "intercept = 0\n",
        "slope = 0\n",
        "slope_learning_rate = 0.00000001\n",
        "intercept_learning_rate = 1\n",
        "\n",
        "sseList = []\n",
        "\n",
        "for iteration in range(800):\n",
        "    # Calculate the derivatives\n",
        "    derivative_intercept = d_dI_sse(intercept, slope, distances, prices)\n",
        "    derivative_slope = d_dS_sse(intercept, slope, distances, prices)\n",
        "\n",
        "    # Compute step sizes\n",
        "    step_size_intercept = derivative_intercept * learning_rate\n",
        "    step_size_slope = derivative_slope * learning_rate\n",
        "\n",
        "\n",
        "    # Calculate SSE\n",
        "    sse_value = sse(intercept, slope, distances, prices)\n",
        "    sseList.append(sse_value)\n",
        "    #print(f\"Iteration {iteration + 1}: SSE = {sse_value}\")\n",
        "\n",
        "    # Update intercept and slope\n",
        "    new_intercept = intercept - step_size_intercept\n",
        "    new_slope = slope - step_size_slope\n",
        "\n",
        "    # Print step sizes and new values for each iteration\n",
        "    #print(f\"Iteration {iteration + 1}:\")\n",
        "    #print(f\"Step Size Intercept: {step_size_intercept}, Step Size Slope: {step_size_slope}\")\n",
        "    #print(f\"New Intercept: {new_intercept}, New Slope: {new_slope}\\n\")\n",
        "\n",
        "    # Set updated values for the next iteration\n",
        "    intercept, slope = new_intercept, new_slope\n",
        "\n",
        "print(f\"Intercept: {intercept}, Slope: {slope}\\n\")"
      ]
    },
    {
      "cell_type": "code",
      "execution_count": 15,
      "metadata": {
        "colab": {
          "base_uri": "https://localhost:8080/",
          "height": 489
        },
        "id": "oOykIq3wtFLr",
        "outputId": "619e5b4c-b652-4fab-8e81-43cab18e26d9"
      },
      "outputs": [
        {
          "output_type": "execute_result",
          "data": {
            "text/plain": [
              "[<matplotlib.lines.Line2D at 0x79bc54e5ab00>]"
            ]
          },
          "metadata": {},
          "execution_count": 15
        },
        {
          "output_type": "display_data",
          "data": {
            "text/plain": [
              "<Figure size 640x480 with 1 Axes>"
            ],
            "image/png": "[encoded data removed]"
          },
          "metadata": {}
        }
      ],
      "source": [
        "# Compare Gradient Descent Regression model to Least Squares Regression\n",
        "\n",
        "plt.scatter(x= airfare['distance'], y= airfare['price'])\n",
        "plt.xlabel(\"Distance\")\n",
        "plt.ylabel(\"Price\")\n",
        "plt.title(\"Airfare vs Price\")\n",
        "\n",
        "plt.plot(airfare['distance'], 0.04927 + 0.24 * airfare['distance'], color= 'red')\n",
        "\n",
        "model = LinearRegression()\n",
        "model.fit(airfare[['distance']], airfare['price'])\n",
        "plt.plot(airfare['distance'], model.intercept_ + model.coef_ * airfare['distance'], color= 'green')"
      ]
    },
    {
      "cell_type": "markdown",
      "metadata": {
        "id": "BLg6AT8ia-Hl"
      },
      "source": [
        "# Demo using Car Highway MPG vs City MPG"
      ]
    },
    {
      "cell_type": "code",
      "execution_count": 16,
      "metadata": {
        "colab": {
          "base_uri": "https://localhost:8080/",
          "height": 447
        },
        "id": "tuUQDxhSXc6J",
        "outputId": "e28c1d61-34dd-479d-959a-123e691f125e"
      },
      "outputs": [
        {
          "output_type": "execute_result",
          "data": {
            "text/plain": [
              "<matplotlib.collections.PathCollection at 0x79bc54ee2950>"
            ]
          },
          "metadata": {},
          "execution_count": 16
        },
        {
          "output_type": "display_data",
          "data": {
            "text/plain": [
              "<Figure size 640x480 with 1 Axes>"
            ],
            "image/png": "[encoded data removed]"
          },
          "metadata": {}
        }
      ],
      "source": [
        "plt.scatter(x= car2['City_MPG'], y= car2['Highway_MPG'])"
      ]
    },
    {
      "cell_type": "code",
      "execution_count": 17,
      "metadata": {
        "colab": {
          "base_uri": "https://localhost:8080/"
        },
        "id": "AXPIMCqsX4ih",
        "outputId": "dd4e38d5-c42a-400a-a0e4-26fd9f04e8dc"
      },
      "outputs": [
        {
          "output_type": "stream",
          "name": "stdout",
          "text": [
            "Intercept: 1.4306705884484232, Slope: 1.342224902491286\n",
            "\n"
          ]
        }
      ],
      "source": [
        "'''\n",
        "Uses 8000 iterations with constant learning rate of 0.00001 for intercept and slope. Converges at intercept of 1.43 and\n",
        "slope of 1.34\n",
        "'''\n",
        "\n",
        "# Derivative with respect to intercept for SSE function\n",
        "def d_dI_sse(intercept, slope, distances, prices):\n",
        "    residualList = [-2 * (prices[i] - (intercept + slope * distances[i])) for i in range(len(prices))]\n",
        "    return sum(residualList)\n",
        "\n",
        "# Derivative with respect to slope for SSE function\n",
        "def d_dS_sse(intercept, slope, distances, prices):\n",
        "    residualList = [-2 * distances[i] * (prices[i] - (intercept + slope * distances[i])) for i in range(len(prices))]\n",
        "    return sum(residualList)\n",
        "\n",
        "# Prepare the data\n",
        "distances = car2['City_MPG'].values\n",
        "prices = car2['Highway_MPG'].values\n",
        "\n",
        "# Initialize variables\n",
        "intercept = 0\n",
        "slope = 0\n",
        "learning_rate = 0.00001\n",
        "\n",
        "sseList = []\n",
        "\n",
        "for iteration in range(8000):\n",
        "    # Calculate the derivatives\n",
        "    derivative_intercept = d_dI_sse(intercept, slope, distances, prices)\n",
        "    derivative_slope = d_dS_sse(intercept, slope, distances, prices)\n",
        "\n",
        "    # Compute step sizes\n",
        "    step_size_intercept = derivative_intercept * learning_rate\n",
        "    step_size_slope = derivative_slope * learning_rate\n",
        "\n",
        "\n",
        "    # Calculate SSE\n",
        "    sse_value = sse(intercept, slope, distances, prices)\n",
        "    sseList.append(sse_value)\n",
        "    #print(f\"Iteration {iteration + 1}: SSE = {sse_value}\")\n",
        "\n",
        "    # Update intercept and slope\n",
        "    new_intercept = intercept - step_size_intercept\n",
        "    new_slope = slope - step_size_slope\n",
        "\n",
        "    # Print step sizes and new values for each iteration\n",
        "    #print(f\"Iteration {iteration + 1}:\")\n",
        "    #print(f\"Step Size Intercept: {step_size_intercept}, Step Size Slope: {step_size_slope}\")\n",
        "    #print(f\"New Intercept: {new_intercept}, New Slope: {new_slope}\\n\")\n",
        "\n",
        "    # Set updated values for the next iteration\n",
        "    intercept, slope = new_intercept, new_slope\n",
        "\n",
        "print(f\"Intercept: {intercept}, Slope: {slope}\\n\")"
      ]
    },
    {
      "cell_type": "code",
      "execution_count": 18,
      "metadata": {
        "colab": {
          "base_uri": "https://localhost:8080/",
          "height": 489
        },
        "id": "LcdllMG7Z_nJ",
        "outputId": "10880523-a851-47cd-b105-c71b514ea4fc"
      },
      "outputs": [
        {
          "output_type": "execute_result",
          "data": {
            "text/plain": [
              "[<matplotlib.lines.Line2D at 0x79bc54db62c0>]"
            ]
          },
          "metadata": {},
          "execution_count": 18
        },
        {
          "output_type": "display_data",
          "data": {
            "text/plain": [
              "<Figure size 640x480 with 1 Axes>"
            ],
            "image/png": "[encoded data removed]"
          },
          "metadata": {}
        }
      ],
      "source": [
        "# Compare Gradient Descent Regression model to Least Squares Regression\n",
        "\n",
        "plt.scatter(x= car2['City_MPG'], y= car2['Highway_MPG'])\n",
        "plt.xlabel(\"City_MPG\")\n",
        "plt.ylabel(\"Highway_MPG\")\n",
        "plt.title(\"City MPG vs Highway MPG of Cars\")\n",
        "\n",
        "plt.plot(car2['City_MPG'], 1.430 + 1.342 * car2['City_MPG'], color= 'red')\n",
        "\n",
        "model = LinearRegression()\n",
        "model.fit(car2[['City_MPG']], car2['Highway_MPG'])\n",
        "plt.plot(car2['City_MPG'], model.intercept_ + model.coef_ * car2['City_MPG'], color= 'green')"
      ]
    }
  ],
  "metadata": {
    "colab": {
      "provenance": []
    },
    "kernelspec": {
      "display_name": "Python 3",
      "name": "python3"
    },
    "language_info": {
      "name": "python"
    }
  },
  "nbformat": 4,
  "nbformat_minor": 0
}